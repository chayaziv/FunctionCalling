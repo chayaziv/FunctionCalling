{
 "cells": [
  {
   "cell_type": "code",
   "execution_count": 1,
   "metadata": {},
   "outputs": [],
   "source": [
    "from dotenv import load_dotenv\n",
    "import os\n",
    "\n",
    "load_dotenv() \n",
    "OPENAI_API_KEY = os.getenv(\"OPENAI_API_KEY\")\n",
    "\n"
   ]
  },
  {
   "cell_type": "code",
   "execution_count": 2,
   "metadata": {},
   "outputs": [
    {
     "name": "stdout",
     "output_type": "stream",
     "text": [
      "[]\n"
     ]
    },
    {
     "data": {
      "text/plain": [
       "[StructuredTool(name='get_tasks', description='Retrieves a list of tasks, optionally filtered by provided criteria.\\n\\nArgs:\\n    filters (Optional[Dict]): A dictionary of filter criteria where keys are task attributes.\\n\\nReturns:\\n    List[Dict]: A list of tasks matching the filters, or all tasks if no filters are provided.', args_schema=<class 'langchain_core.utils.pydantic.get_tasks'>, func=<function get_tasks at 0x000001E37ED2AC00>),\n",
       " StructuredTool(name='add_task', description='Adds a new task to the task list.\\n\\nArgs:\\n    title (str): The title of the task.\\n    description (str): A detailed description of the task.\\n    task_type (str): The type/category of the task.\\n    start_date (str): The start date of the task.\\n    end_date (str): The end date of the task.\\n    status (str): The current status of the task (e.g., pending, completed).\\n\\nReturns:\\n    Dict: The newly created task object with a unique ID.', args_schema=<class 'langchain_core.utils.pydantic.add_task'>, func=<function add_task at 0x000001E37ED2ACA0>),\n",
       " StructuredTool(name='update_task', description='Updates an existing task by its unique identifier.\\n\\nArgs:\\n    task_id (str): The unique identifier of the task to be updated.\\n    updates (Dict): A dictionary containing fields to update and their new values.\\n\\nReturns:\\n    Optional[Dict]: The updated task object if found, otherwise None.', args_schema=<class 'langchain_core.utils.pydantic.update_task'>, func=<function update_task at 0x000001E37ED2B560>),\n",
       " StructuredTool(name='delete_task', description='Deletes a task by its unique identifier.\\n\\nArgs:\\n    task_id (str): The unique identifier of the task to be deleted.\\n\\nReturns:\\n    bool: True if the task was successfully deleted, False otherwise.', args_schema=<class 'langchain_core.utils.pydantic.delete_task'>, func=<function delete_task at 0x000001E37ED2AA20>)]"
      ]
     },
     "execution_count": 2,
     "metadata": {},
     "output_type": "execute_result"
    }
   ],
   "source": [
    "from todos_service import tools ,tasks\n",
    "tools"
   ]
  },
  {
   "cell_type": "code",
   "execution_count": 3,
   "metadata": {},
   "outputs": [],
   "source": [
    "from langchain.agents import AgentExecutor, create_tool_calling_agent, tool\n",
    "from langchain_openai import ChatOpenAI \n",
    "from langchain_core.prompts import ChatPromptTemplate\n",
    "\n",
    "\n",
    "prompt = ChatPromptTemplate.from_messages([\n",
    "    (\"system\", \"You are a helpful assistant that can use tools\"),\n",
    "    (\"placeholder\", \"{chat_history}\"),\n",
    "    (\"human\", \"{input}\"),\n",
    "    (\"placeholder\", \"{agent_scratchpad}\"),\n",
    "])\n",
    "model=ChatOpenAI(model=\"gpt-4o-mini\", openai_api_key=OPENAI_API_KEY, temperature=0)\n",
    "agent = create_tool_calling_agent(model, tools,prompt)\n",
    "agent_executor = AgentExecutor(agent=agent, tools=tools, verbose=True)"
   ]
  },
  {
   "cell_type": "code",
   "execution_count": 4,
   "metadata": {},
   "outputs": [
    {
     "data": {
      "text/plain": [
       "[]"
      ]
     },
     "execution_count": 4,
     "metadata": {},
     "output_type": "execute_result"
    }
   ],
   "source": [
    "tasks"
   ]
  },
  {
   "cell_type": "code",
   "execution_count": 5,
   "metadata": {},
   "outputs": [
    {
     "data": {
      "text/plain": [
       "<flask_cors.extension.CORS at 0x1e37f6523d0>"
      ]
     },
     "execution_count": 5,
     "metadata": {},
     "output_type": "execute_result"
    }
   ],
   "source": [
    "from flask import Flask, request, jsonify\n",
    "from flask_cors import CORS\n",
    "\n",
    "\n",
    "app = Flask(__name__)\n",
    "CORS(app)"
   ]
  },
  {
   "cell_type": "code",
   "execution_count": 6,
   "metadata": {},
   "outputs": [],
   "source": [
    "def current_response(response):\n",
    "    return response[\"messages\"][len(response[\"messages\"])-1].content"
   ]
  },
  {
   "cell_type": "code",
   "execution_count": 7,
   "metadata": {},
   "outputs": [],
   "source": [
    "@app.route('/agent', methods=['GET'])\n",
    "def get_welcom():\n",
    "    return \"--------------welcom to agent ✨------------------\"\n",
    "\n",
    "@app.route('/agent', methods=['POST'])\n",
    "def run_agent():\n",
    "    \"\"\"הפעלה של ה-Agent עם LangGraph\"\"\"\n",
    "\n",
    "    user_prompt = request.json.get('prompt')\n",
    "    response = agent_executor.invoke({\"input\": user_prompt})\n",
    "    return {'response': response['output']} "
   ]
  },
  {
   "cell_type": "code",
   "execution_count": null,
   "metadata": {},
   "outputs": [
    {
     "name": "stdout",
     "output_type": "stream",
     "text": [
      " * Serving Flask app '__main__'\n",
      " * Debug mode: off\n"
     ]
    },
    {
     "name": "stderr",
     "output_type": "stream",
     "text": [
      "WARNING: This is a development server. Do not use it in a production deployment. Use a production WSGI server instead.\n",
      " * Running on all addresses (0.0.0.0)\n",
      " * Running on http://127.0.0.1:5000\n",
      " * Running on http://192.168.150.192:5000\n",
      "Press CTRL+C to quit\n"
     ]
    },
    {
     "name": "stdout",
     "output_type": "stream",
     "text": [
      "\n",
      "\n",
      "\u001b[1m> Entering new AgentExecutor chain...\u001b[0m\n",
      "\u001b[32;1m\u001b[1;3m\n",
      "Invoking: `add_task` with `{'title': 'Buy new shoes for son', 'description': 'Purchase a new pair of shoes for my son.', 'task_type': 'Shopping', 'start_date': '2023-10-10', 'end_date': '2023-10-15', 'status': 'pending'}`\n",
      "\n",
      "\n",
      "\u001b[0m\u001b[33;1m\u001b[1;3m{'id': '36836a48-e370-4bf1-94d1-c022b0144ed5', 'title': 'Buy new shoes for son', 'description': 'Purchase a new pair of shoes for my son.', 'task_type': 'Shopping', 'start_date': '2023-10-10', 'end_date': '2023-10-15', 'status': 'pending'}\u001b[0m"
     ]
    },
    {
     "name": "stderr",
     "output_type": "stream",
     "text": [
      "127.0.0.1 - - [11/Mar/2025 16:10:28] \"POST /agent HTTP/1.1\" 200 -\n"
     ]
    },
    {
     "name": "stdout",
     "output_type": "stream",
     "text": [
      "\u001b[32;1m\u001b[1;3mThe task to buy new shoes for your son has been added to the task list. Here are the details:\n",
      "\n",
      "- **Title:** Buy new shoes for son\n",
      "- **Description:** Purchase a new pair of shoes for my son.\n",
      "- **Task Type:** Shopping\n",
      "- **Start Date:** October 10, 2023\n",
      "- **End Date:** October 15, 2023\n",
      "- **Status:** Pending\u001b[0m\n",
      "\n",
      "\u001b[1m> Finished chain.\u001b[0m\n",
      "\n",
      "\n",
      "\u001b[1m> Entering new AgentExecutor chain...\u001b[0m\n",
      "\u001b[32;1m\u001b[1;3m\n",
      "Invoking: `add_task` with `{'title': 'Bake a Cake', 'description': 'Prepare and bake a cake for the upcoming event.', 'task_type': 'Baking', 'start_date': '2023-10-01', 'end_date': '2023-10-01', 'status': 'pending'}`\n",
      "\n",
      "\n",
      "\u001b[0m\u001b[33;1m\u001b[1;3m{'id': '61ffc9dc-7e1c-4e86-919c-4467ce899ee2', 'title': 'Bake a Cake', 'description': 'Prepare and bake a cake for the upcoming event.', 'task_type': 'Baking', 'start_date': '2023-10-01', 'end_date': '2023-10-01', 'status': 'pending'}\u001b[0m"
     ]
    },
    {
     "name": "stderr",
     "output_type": "stream",
     "text": [
      "127.0.0.1 - - [11/Mar/2025 16:10:34] \"POST /agent HTTP/1.1\" 200 -\n"
     ]
    },
    {
     "name": "stdout",
     "output_type": "stream",
     "text": [
      "\u001b[32;1m\u001b[1;3mThe task to bake a cake has been successfully added to the task list. Here are the details:\n",
      "\n",
      "- **Title:** Bake a Cake\n",
      "- **Description:** Prepare and bake a cake for the upcoming event.\n",
      "- **Task Type:** Baking\n",
      "- **Start Date:** October 1, 2023\n",
      "- **End Date:** October 1, 2023\n",
      "- **Status:** Pending\u001b[0m\n",
      "\n",
      "\u001b[1m> Finished chain.\u001b[0m\n",
      "\n",
      "\n",
      "\u001b[1m> Entering new AgentExecutor chain...\u001b[0m\n",
      "\u001b[32;1m\u001b[1;3m\n",
      "Invoking: `get_tasks` with `{}`\n",
      "\n",
      "\n",
      "\u001b[0m\u001b[36;1m\u001b[1;3m[{'id': '36836a48-e370-4bf1-94d1-c022b0144ed5', 'title': 'Buy new shoes for son', 'description': 'Purchase a new pair of shoes for my son.', 'task_type': 'Shopping', 'start_date': '2023-10-10', 'end_date': '2023-10-15', 'status': 'pending'}, {'id': '61ffc9dc-7e1c-4e86-919c-4467ce899ee2', 'title': 'Bake a Cake', 'description': 'Prepare and bake a cake for the upcoming event.', 'task_type': 'Baking', 'start_date': '2023-10-01', 'end_date': '2023-10-01', 'status': 'pending'}]\u001b[0m"
     ]
    },
    {
     "name": "stderr",
     "output_type": "stream",
     "text": [
      "127.0.0.1 - - [11/Mar/2025 16:10:41] \"POST /agent HTTP/1.1\" 200 -\n"
     ]
    },
    {
     "name": "stdout",
     "output_type": "stream",
     "text": [
      "\u001b[32;1m\u001b[1;3mHere are the tasks you have:\n",
      "\n",
      "1. **Task Title:** Buy new shoes for son\n",
      "   - **Description:** Purchase a new pair of shoes for my son.\n",
      "   - **Task Type:** Shopping\n",
      "   - **Start Date:** 2023-10-10\n",
      "   - **End Date:** 2023-10-15\n",
      "   - **Status:** Pending\n",
      "\n",
      "2. **Task Title:** Bake a Cake\n",
      "   - **Description:** Prepare and bake a cake for the upcoming event.\n",
      "   - **Task Type:** Baking\n",
      "   - **Start Date:** 2023-10-01\n",
      "   - **End Date:** 2023-10-01\n",
      "   - **Status:** Pending\u001b[0m\n",
      "\n",
      "\u001b[1m> Finished chain.\u001b[0m\n"
     ]
    }
   ],
   "source": [
    "if __name__ == '__main__':\n",
    "   app.run(host='0.0.0.0', port=5000)"
   ]
  }
 ],
 "metadata": {
  "kernelspec": {
   "display_name": "Python 3",
   "language": "python",
   "name": "python3"
  },
  "language_info": {
   "codemirror_mode": {
    "name": "ipython",
    "version": 3
   },
   "file_extension": ".py",
   "mimetype": "text/x-python",
   "name": "python",
   "nbconvert_exporter": "python",
   "pygments_lexer": "ipython3",
   "version": "3.11.9"
  }
 },
 "nbformat": 4,
 "nbformat_minor": 2
}
