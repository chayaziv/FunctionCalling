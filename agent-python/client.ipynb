{
 "cells": [
  {
   "cell_type": "code",
   "execution_count": 1,
   "metadata": {},
   "outputs": [],
   "source": [
    "import requests"
   ]
  },
  {
   "cell_type": "code",
   "execution_count": 2,
   "metadata": {},
   "outputs": [],
   "source": [
    "url = 'http://localhost:5000/agent'\n",
    "payload = {'prompt': 'i need to buy new shoes for my son, add it to the tasks list'}\n",
    "response = requests.post(url, json=payload)"
   ]
  },
  {
   "cell_type": "code",
   "execution_count": 3,
   "metadata": {},
   "outputs": [
    {
     "name": "stdout",
     "output_type": "stream",
     "text": [
      "The task to buy new shoes for your son has been added to the task list. Here are the details:\n",
      "\n",
      "- **Title:** Buy new shoes for son\n",
      "- **Description:** Purchase a new pair of shoes for my son.\n",
      "- **Task Type:** Shopping\n",
      "- **Start Date:** October 10, 2023\n",
      "- **End Date:** October 15, 2023\n",
      "- **Status:** Pending\n"
     ]
    }
   ],
   "source": [
    "if response.status_code == 200:\n",
    "    answer = response.json().get('response', 'No response found')\n",
    "    print(answer)\n",
    "else:\n",
    "    print(f\"Error: {response.status_code}\")"
   ]
  },
  {
   "cell_type": "code",
   "execution_count": 4,
   "metadata": {},
   "outputs": [],
   "source": [
    "url = 'http://localhost:5000/agent'\n",
    "payload = {'prompt': 'i need to bake a cake, add it to the tasks list'}\n",
    "response = requests.post(url, json=payload)"
   ]
  },
  {
   "cell_type": "code",
   "execution_count": 5,
   "metadata": {},
   "outputs": [
    {
     "name": "stdout",
     "output_type": "stream",
     "text": [
      "The task to bake a cake has been successfully added to the task list. Here are the details:\n",
      "\n",
      "- **Title:** Bake a Cake\n",
      "- **Description:** Prepare and bake a cake for the upcoming event.\n",
      "- **Task Type:** Baking\n",
      "- **Start Date:** October 1, 2023\n",
      "- **End Date:** October 1, 2023\n",
      "- **Status:** Pending\n"
     ]
    }
   ],
   "source": [
    "if response.status_code == 200:\n",
    "    answer = response.json().get('response', 'No response found')\n",
    "    print(answer)\n",
    "else:\n",
    "    print(f\"Error: {response.status_code}\")"
   ]
  },
  {
   "cell_type": "code",
   "execution_count": 6,
   "metadata": {},
   "outputs": [],
   "source": [
    "url = 'http://localhost:5000/agent'\n",
    "payload = {'prompt': 'what are the tasks i have?'}\n",
    "response = requests.post(url, json=payload)"
   ]
  },
  {
   "cell_type": "code",
   "execution_count": 7,
   "metadata": {},
   "outputs": [
    {
     "name": "stdout",
     "output_type": "stream",
     "text": [
      "Here are the tasks you have:\n",
      "\n",
      "1. **Task Title:** Buy new shoes for son\n",
      "   - **Description:** Purchase a new pair of shoes for my son.\n",
      "   - **Task Type:** Shopping\n",
      "   - **Start Date:** 2023-10-10\n",
      "   - **End Date:** 2023-10-15\n",
      "   - **Status:** Pending\n",
      "\n",
      "2. **Task Title:** Bake a Cake\n",
      "   - **Description:** Prepare and bake a cake for the upcoming event.\n",
      "   - **Task Type:** Baking\n",
      "   - **Start Date:** 2023-10-01\n",
      "   - **End Date:** 2023-10-01\n",
      "   - **Status:** Pending\n"
     ]
    }
   ],
   "source": [
    "if response.status_code == 200:\n",
    "    answer = response.json().get('response', 'No response found')\n",
    "    print(answer)\n",
    "else:\n",
    "    print(f\"Error: {response.status_code}\")"
   ]
  }
 ],
 "metadata": {
  "kernelspec": {
   "display_name": "Python 3",
   "language": "python",
   "name": "python3"
  },
  "language_info": {
   "codemirror_mode": {
    "name": "ipython",
    "version": 3
   },
   "file_extension": ".py",
   "mimetype": "text/x-python",
   "name": "python",
   "nbconvert_exporter": "python",
   "pygments_lexer": "ipython3",
   "version": "3.11.9"
  }
 },
 "nbformat": 4,
 "nbformat_minor": 2
}
