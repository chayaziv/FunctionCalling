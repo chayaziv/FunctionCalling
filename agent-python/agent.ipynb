{
 "cells": [
  {
   "cell_type": "code",
   "execution_count": 15,
   "metadata": {},
   "outputs": [],
   "source": [
    "import os\n",
    "OPEN_AI_KEY=os.getenv(\"OPENAI_API_KEY\")"
   ]
  },
  {
   "cell_type": "code",
   "execution_count": 16,
   "metadata": {},
   "outputs": [
    {
     "data": {
      "text/plain": [
       "[StructuredTool(name='get_tasks', description='Retrieves a list of tasks, optionally filtered by provided criteria.\\n\\nArgs:\\n    filters (Optional[Dict]): A dictionary of filter criteria where keys are task attributes.\\n\\nReturns:\\n    List[Dict]: A list of tasks matching the filters, or all tasks if no filters are provided.', args_schema=<class 'langchain_core.utils.pydantic.get_tasks'>, func=<function get_tasks at 0x00000287C170B6A0>),\n",
       " StructuredTool(name='add_task', description='Adds a new task to the task list.\\n\\nArgs:\\n    title (str): The title of the task.\\n    description (str): A detailed description of the task.\\n    task_type (str): The type/category of the task.\\n    start_date (str): The start date of the task.\\n    end_date (str): The end date of the task.\\n    status (str): The current status of the task (e.g., pending, completed).\\n\\nReturns:\\n    Dict: The newly created task object with a unique ID.', args_schema=<class 'langchain_core.utils.pydantic.add_task'>, func=<function add_task at 0x00000287C170B740>),\n",
       " StructuredTool(name='update_task', description='Updates an existing task by its unique identifier.\\n\\nArgs:\\n    task_id (str): The unique identifier of the task to be updated.\\n    updates (Dict): A dictionary containing fields to update and their new values.\\n\\nReturns:\\n    Optional[Dict]: The updated task object if found, otherwise None.', args_schema=<class 'langchain_core.utils.pydantic.update_task'>, func=<function update_task at 0x00000287C170B4C0>),\n",
       " StructuredTool(name='delete_task', description='Deletes a task by its unique identifier.\\n\\nArgs:\\n    task_id (str): The unique identifier of the task to be deleted.\\n\\nReturns:\\n    bool: True if the task was successfully deleted, False otherwise.', args_schema=<class 'langchain_core.utils.pydantic.delete_task'>, func=<function delete_task at 0x00000287C171CCC0>)]"
      ]
     },
     "execution_count": 16,
     "metadata": {},
     "output_type": "execute_result"
    }
   ],
   "source": [
    "from todos_service import tools ,tasks\n",
    "tools"
   ]
  },
  {
   "cell_type": "code",
   "execution_count": 17,
   "metadata": {},
   "outputs": [],
   "source": [
    "from langchain.agents import AgentExecutor, create_tool_calling_agent, tool\n",
    "from langchain_openai import ChatOpenAI \n",
    "from langchain_core.prompts import ChatPromptTemplate\n",
    "\n",
    "\n",
    "prompt = ChatPromptTemplate.from_messages([\n",
    "    (\"system\", \"You are a helpful assistant that can use tools\"),\n",
    "    (\"placeholder\", \"{chat_history}\"),\n",
    "    (\"human\", \"{input}\"),\n",
    "    (\"placeholder\", \"{agent_scratchpad}\"),\n",
    "])\n",
    "model=ChatOpenAI(model=\"gpt-4o-mini\")\n",
    "agent = create_tool_calling_agent(model, tools,prompt)\n",
    "agent_executor = AgentExecutor(agent=agent, tools=tools, verbose=True)"
   ]
  },
  {
   "cell_type": "code",
   "execution_count": 18,
   "metadata": {},
   "outputs": [
    {
     "data": {
      "text/plain": [
       "[{'id': 'd595d9f8-bdd9-49c6-a36b-76b44850f8f5',\n",
       "  'title': 'Bake a Cake',\n",
       "  'description': 'Prepare and bake a delicious cake for a special occasion.',\n",
       "  'task_type': 'cooking',\n",
       "  'start_date': '2023-10-05',\n",
       "  'end_date': '2023-10-05',\n",
       "  'status': 'pending'}]"
      ]
     },
     "execution_count": 18,
     "metadata": {},
     "output_type": "execute_result"
    }
   ],
   "source": [
    "tasks"
   ]
  },
  {
   "cell_type": "code",
   "execution_count": 19,
   "metadata": {},
   "outputs": [
    {
     "data": {
      "text/plain": [
       "<flask_cors.extension.CORS at 0x287c18ae9d0>"
      ]
     },
     "execution_count": 19,
     "metadata": {},
     "output_type": "execute_result"
    }
   ],
   "source": [
    "from flask import Flask, request, jsonify\n",
    "from flask_cors import CORS\n",
    "\n",
    "\n",
    "app = Flask(__name__)\n",
    "CORS(app)"
   ]
  },
  {
   "cell_type": "code",
   "execution_count": 20,
   "metadata": {},
   "outputs": [],
   "source": [
    "def current_response(response):\n",
    "    return response[\"messages\"][len(response[\"messages\"])-1].content"
   ]
  },
  {
   "cell_type": "code",
   "execution_count": null,
   "metadata": {},
   "outputs": [],
   "source": [
    "@app.route('/agent', methods=['GET'])\n",
    "def get_welcom():\n",
    "    return \"--------------welcom to agent ✨------------------\"\n",
    "\n",
    "@app.route('/agent', methods=['POST'])\n",
    "def run_agent():\n",
    "    \"\"\"הפעלה של ה-Agent עם LangGraph\"\"\"\n",
    "\n",
    "    user_prompt = request.json.get('prompt')\n",
    "    response = agent_executor.invoke({\"input\": user_prompt})\n",
    "    return {'response': response['output']} "
   ]
  },
  {
   "cell_type": "code",
   "execution_count": null,
   "metadata": {},
   "outputs": [
    {
     "name": "stdout",
     "output_type": "stream",
     "text": [
      " * Serving Flask app '__main__'\n",
      " * Debug mode: off\n"
     ]
    },
    {
     "name": "stderr",
     "output_type": "stream",
     "text": [
      "WARNING: This is a development server. Do not use it in a production deployment. Use a production WSGI server instead.\n",
      " * Running on all addresses (0.0.0.0)\n",
      " * Running on http://127.0.0.1:5000\n",
      " * Running on http://192.168.150.192:5000\n",
      "Press CTRL+C to quit\n",
      "127.0.0.1 - - [10/Mar/2025 23:39:40] \"OPTIONS /agent HTTP/1.1\" 200 -\n"
     ]
    },
    {
     "name": "stdout",
     "output_type": "stream",
     "text": [
      "\n",
      "\n",
      "\u001b[1m> Entering new AgentExecutor chain...\u001b[0m\n",
      "\u001b[32;1m\u001b[1;3m\n",
      "Invoking: `get_tasks` with `{}`\n",
      "\n",
      "\n",
      "\u001b[0m\u001b[36;1m\u001b[1;3m[{'id': 'd595d9f8-bdd9-49c6-a36b-76b44850f8f5', 'title': 'Bake a Cake', 'description': 'Prepare and bake a delicious cake for a special occasion.', 'task_type': 'cooking', 'start_date': '2023-10-05', 'end_date': '2023-10-05', 'status': 'pending'}]\u001b[0m"
     ]
    },
    {
     "name": "stderr",
     "output_type": "stream",
     "text": [
      "127.0.0.1 - - [10/Mar/2025 23:39:44] \"POST /agent HTTP/1.1\" 200 -\n"
     ]
    },
    {
     "name": "stdout",
     "output_type": "stream",
     "text": [
      "\u001b[32;1m\u001b[1;3mYou have one task:\n",
      "\n",
      "- **Title:** Bake a Cake\n",
      "- **Description:** Prepare and bake a delicious cake for a special occasion.\n",
      "- **Task Type:** Cooking\n",
      "- **Start Date:** October 5, 2023\n",
      "- **End Date:** October 5, 2023\n",
      "- **Status:** Pending\n",
      "\n",
      "Let me know if you need any further assistance with this task!\u001b[0m\n",
      "\n",
      "\u001b[1m> Finished chain.\u001b[0m\n"
     ]
    }
   ],
   "source": [
    "if __name__ == '__main__':\n",
    "   app.run(host='0.0.0.0', port=5000)"
   ]
  }
 ],
 "metadata": {
  "kernelspec": {
   "display_name": "Python 3",
   "language": "python",
   "name": "python3"
  },
  "language_info": {
   "codemirror_mode": {
    "name": "ipython",
    "version": 3
   },
   "file_extension": ".py",
   "mimetype": "text/x-python",
   "name": "python",
   "nbconvert_exporter": "python",
   "pygments_lexer": "ipython3",
   "version": "3.11.9"
  }
 },
 "nbformat": 4,
 "nbformat_minor": 2
}
